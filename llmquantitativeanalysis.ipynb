{
 "cells": [
  {
   "cell_type": "code",
   "execution_count": 1,
   "id": "01f394f6",
   "metadata": {},
   "outputs": [],
   "source": [
    "import pandas as pd"
   ]
  },
  {
   "cell_type": "code",
   "execution_count": 2,
   "id": "ef67955c",
   "metadata": {},
   "outputs": [],
   "source": [
    "df = pd.read_csv(r'/Users/aliciayang/Downloads/music data - musical similarity.csv')"
   ]
  },
  {
   "cell_type": "code",
   "execution_count": 3,
   "id": "c520513f",
   "metadata": {},
   "outputs": [
    {
     "name": "stdout",
     "output_type": "stream",
     "text": [
      "Cluster Counts and Centroids:\n",
      "    text-clusters  count     mean_x     mean_y\n",
      "0            0.0     13  -1.591165  -3.843169\n",
      "1            1.0     42   8.436730  10.678971\n",
      "2            2.0     35   3.678081 -16.761030\n",
      "3            3.0     16  -0.627809  12.212778\n",
      "4            4.0     42 -11.110566   5.713136 \n",
      "\n"
     ]
    }
   ],
   "source": [
    "cluster_centroids = df.groupby('text-clusters').agg(\n",
    "    count=('text-x', 'count'),\n",
    "    mean_x=('text-x', 'mean'),\n",
    "    mean_y=('text-y', 'mean')\n",
    ").reset_index()\n",
    "print(\"Cluster Counts and Centroids:\\n\", cluster_centroids, \"\\n\")"
   ]
  },
  {
   "cell_type": "code",
   "execution_count": 5,
   "id": "7f8bc71d",
   "metadata": {},
   "outputs": [
    {
     "name": "stdout",
     "output_type": "stream",
     "text": [
      "Coordinate Spread (Standard Deviations):\n",
      "    text-clusters      std_x      std_y\n",
      "0            0.0  23.305238  10.223643\n",
      "1            1.0   9.432079  12.603261\n",
      "2            2.0  12.852867  11.571277\n",
      "3            3.0  22.849989  20.717936\n",
      "4            4.0  14.672001  20.271497\n"
     ]
    }
   ],
   "source": [
    "cluster_spreads = df.groupby('text-clusters').agg(\n",
    "    std_x=('text-x', 'std'),\n",
    "    std_y=('text-y', 'std')\n",
    ").reset_index()\n",
    "print(\"Coordinate Spread (Standard Deviations):\\n\", cluster_spreads)\n"
   ]
  },
  {
   "cell_type": "code",
   "execution_count": 16,
   "id": "f575fd24",
   "metadata": {},
   "outputs": [],
   "source": [
    "def categorize(sim):\n",
    "    if sim == 'Artist':\n",
    "        return 'Artist'\n",
    "    elif sim == 'Genre':\n",
    "        return 'Genre'\n",
    "    elif sim in ('Genre - Artist', 'Genre–Artist'):\n",
    "        return 'Genre-Artist'\n",
    "    else:\n",
    "        return 'Sampling'"
   ]
  },
  {
   "cell_type": "code",
   "execution_count": 17,
   "id": "0bc3ad91",
   "metadata": {},
   "outputs": [],
   "source": [
    "df['category'] = df['Similarity'].apply(categorize)"
   ]
  },
  {
   "cell_type": "code",
   "execution_count": 18,
   "id": "f83a5d24",
   "metadata": {},
   "outputs": [],
   "source": [
    "df['num_similar'] = (\n",
    "    df['Similar Songs (ID)']\n",
    "      .fillna('')                   # guard against NaNs\n",
    "      .str.split(',')               # split into list of substrings\n",
    "      .apply(lambda lst: sum(1 for x in lst if x.strip().isdigit()))\n",
    ")"
   ]
  },
  {
   "cell_type": "code",
   "execution_count": 19,
   "id": "966bcc3b",
   "metadata": {},
   "outputs": [
    {
     "name": "stdout",
     "output_type": "stream",
     "text": [
      "       category  num_songs  avg_similar\n",
      "0        Artist         57     2.052632\n",
      "1         Genre         50     1.160000\n",
      "2  Genre-Artist          1     1.000000\n",
      "3      Sampling         43     1.232558\n"
     ]
    }
   ],
   "source": [
    "summary = (\n",
    "    df\n",
    "    .groupby('category')\n",
    "    .agg(\n",
    "        num_songs   = ('ID',          'count'),\n",
    "        avg_similar = ('num_similar', 'mean')\n",
    "    )\n",
    "    .reset_index()\n",
    ")\n",
    "\n",
    "print(summary)"
   ]
  },
  {
   "cell_type": "markdown",
   "id": "6e5bcc4c",
   "metadata": {},
   "source": [
    "# Getting audio embedding coordinates"
   ]
  },
  {
   "cell_type": "code",
   "execution_count": null,
   "id": "18bcc07f",
   "metadata": {},
   "outputs": [],
   "source": [
    "pip install ace_tools"
   ]
  },
  {
   "cell_type": "code",
   "execution_count": 21,
   "id": "4e360ccd",
   "metadata": {},
   "outputs": [],
   "source": [
    "import re\n",
    "import base64\n",
    "import numpy as np\n",
    "import pandas as pd"
   ]
  },
  {
   "cell_type": "code",
   "execution_count": 24,
   "id": "ffd72e54",
   "metadata": {},
   "outputs": [],
   "source": [
    "with open('/Users/aliciayang/Downloads/cluster_plot.html', 'r', encoding='utf-8', errors='ignore') as f:\n",
    "    html = f.read()"
   ]
  },
  {
   "cell_type": "code",
   "execution_count": 25,
   "id": "9d29b8fa",
   "metadata": {},
   "outputs": [],
   "source": [
    "scripts = re.findall(r'<script type=\"text/javascript\">(.*?)</script>', html, re.DOTALL)\n",
    "script_fig = scripts[-1]"
   ]
  },
  {
   "cell_type": "code",
   "execution_count": 26,
   "id": "d0fb6d1b",
   "metadata": {},
   "outputs": [],
   "source": [
    "cluster_names = re.findall(r'\"name\":\"([^\"]+)\"', script_fig)\n",
    "x_b64       = re.findall(r'\"x\":\\{\"dtype\":\"f4\",\"bdata\":\"([^\"]+)\"\\}', script_fig)\n",
    "y_b64       = re.findall(r'\"y\":\\{\"dtype\":\"f4\",\"bdata\":\"([^\"]+)\"\\}', script_fig)"
   ]
  },
  {
   "cell_type": "code",
   "execution_count": 28,
   "id": "7741ad3d",
   "metadata": {},
   "outputs": [
    {
     "name": "stdout",
     "output_type": "stream",
     "text": [
      "  cluster         x         y\n",
      "0       2  1.635875 -2.488665\n",
      "1       2 -1.201906 -2.737567\n",
      "2       2  5.040506 -3.950674\n",
      "3       2  5.308413 -2.543144\n",
      "4       2 -0.663470 -4.130695\n"
     ]
    }
   ],
   "source": [
    "\n",
    "def decode_js_base64(s: str) -> bytes:\n",
    "    # undoing js unicode escapes for / +\n",
    "    s = s.replace('\\\\u002F', '/').replace('\\\\u002f', '/')\n",
    "    s = s.replace('\\\\u002B', '+').replace('\\\\u002b', '+')\n",
    "    # stripping whitespace and newlines\n",
    "    s = re.sub(r'\\s+', '', s)\n",
    "    # padding to mult of 4\n",
    "    padding = (-len(s)) % 4\n",
    "    s += '=' * padding\n",
    "    # decoding\n",
    "    return base64.b64decode(s)\n",
    "\n",
    "rows = []\n",
    "for name, xb, yb in zip(cluster_names, x_b64, y_b64):\n",
    "    x_bytes = decode_js_base64(xb)\n",
    "    y_bytes = decode_js_base64(yb)\n",
    "    xs = np.frombuffer(x_bytes, dtype=np.float32)\n",
    "    ys = np.frombuffer(y_bytes, dtype=np.float32)\n",
    "    for x, y in zip(xs, ys):\n",
    "        rows.append({'cluster': name, 'x': float(x), 'y': float(y)})\n",
    "\n",
    "df = pd.DataFrame(rows)\n",
    "print(df.head())"
   ]
  },
  {
   "cell_type": "code",
   "execution_count": 31,
   "id": "a81214c1",
   "metadata": {},
   "outputs": [],
   "source": [
    "stats = df.groupby('cluster').agg(\n",
    "    count=('x', 'size'),\n",
    "    mean_x=('x', 'mean'),\n",
    "    mean_y=('y', 'mean'),\n",
    "    std_x=('x', 'std'),\n",
    "    std_y=('y', 'std')\n",
    ").reset_index()"
   ]
  },
  {
   "cell_type": "code",
   "execution_count": 33,
   "id": "c054993c",
   "metadata": {},
   "outputs": [
    {
     "name": "stdout",
     "output_type": "stream",
     "text": [
      "cluster quantitative analysis\n",
      "cluster  count  mean_x  mean_y  std_x  std_y\n",
      "      0     36 -3.8776  2.6695 2.6682 3.0375\n",
      "      1     57  0.5133  2.2351 2.6326 2.4618\n",
      "      2     31  1.6259 -3.1398 2.6269 1.3155\n",
      "      3      1 -6.5964 -2.0742    NaN    NaN\n",
      "      4     25  5.0885  6.9797 1.1706 1.6565\n"
     ]
    }
   ],
   "source": [
    "print(\"cluster quantitative analysis\")\n",
    "print(stats.to_string(index=False, float_format=\"%.4f\"))"
   ]
  },
  {
   "cell_type": "code",
   "execution_count": null,
   "id": "3be5da96",
   "metadata": {},
   "outputs": [],
   "source": []
  }
 ],
 "metadata": {
  "kernelspec": {
   "display_name": "Python 3 (ipykernel)",
   "language": "python",
   "name": "python3"
  },
  "language_info": {
   "codemirror_mode": {
    "name": "ipython",
    "version": 3
   },
   "file_extension": ".py",
   "mimetype": "text/x-python",
   "name": "python",
   "nbconvert_exporter": "python",
   "pygments_lexer": "ipython3",
   "version": "3.9.7"
  }
 },
 "nbformat": 4,
 "nbformat_minor": 5
}
